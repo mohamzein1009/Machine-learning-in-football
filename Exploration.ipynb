{
 "cells": [
  {
   "cell_type": "code",
   "execution_count": 31,
   "id": "3a787c2c",
   "metadata": {},
   "outputs": [],
   "source": [
    "#imports\n",
    "\n",
    "import os\n",
    "import sys\n",
    "import pandas as pd\n",
    "import numpy as np\n",
    "import time\n",
    "import seaborn as sns\n",
    "import re\n",
    "import joblib\n",
    "import eli5\n",
    "from matplotlib.colors import ListedColormap\n",
    "import warnings\n",
    "\n",
    "from matplotlib import pyplot as plt\n",
    "import itertools as it"
   ]
  },
  {
   "cell_type": "code",
   "execution_count": 32,
   "id": "428ecc13",
   "metadata": {
    "code_folding": []
   },
   "outputs": [],
   "source": [
    "def localProcessed(league):\n",
    "        df = pd.read_csv('local_' + league + '_processed.csv')\n",
    "        df = df.drop(['Unnamed: 0'], axis = 1)\n",
    "        df = df.reset_index(drop = True)\n",
    "        return df"
   ]
  },
  {
   "cell_type": "code",
   "execution_count": 33,
   "id": "3e2e7530",
   "metadata": {
    "code_folding": []
   },
   "outputs": [],
   "source": [
    "leagues = {\n",
    "    'prem':[],\n",
    "    'ligue':[],\n",
    "    'bundes':[],\n",
    "    'serie':[],\n",
    "    'laliga':[]}\n",
    "\n",
    "for i in leagues:\n",
    "    df = localProcessed(i)\n",
    "    #df['results'] = df['results'].replace(['H', 'D', 'A'], range(3))\n",
    "    #df['ht_result'] = df['ht_result'].replace(['H', 'D', 'A'], range(3))\n",
    "    leagues[i].append(df)"
   ]
  },
  {
   "cell_type": "code",
   "execution_count": 34,
   "id": "ad318d5a",
   "metadata": {
    "code_folding": []
   },
   "outputs": [],
   "source": [
    "#data of all leagues\n",
    "\n",
    "combined_data = pd.DataFrame()\n",
    "\n",
    "for i in leagues:\n",
    "    data = leagues[i][0]\n",
    "    combined_data = pd.concat([combined_data, data])\n",
    "\n",
    "combined_data = combined_data.sort_values(by = 'date')\n",
    "combined_data = combined_data.reset_index(drop = True)\n",
    "combined_data.to_csv('local_combined_processed.csv')\n",
    "\n",
    "leagues['combined'] = [combined_data]"
   ]
  },
  {
   "cell_type": "code",
   "execution_count": 35,
   "id": "7fd68fcd",
   "metadata": {
    "code_folding": []
   },
   "outputs": [],
   "source": [
    "def correlation(df):\n",
    "    plt.figure(0)\n",
    "    corr = abs(df.corr())\n",
    "    corr = corr[['results']].drop(['results'], axis = 0)\n",
    "    \n",
    "    s = corr.abs().unstack()\n",
    "    high = s.sort_values()\n",
    "\n",
    "    high = high[high >= 0.2]\n",
    "    high = high[high < 1]\n",
    "    high = high.to_frame().reset_index()\n",
    "    corr = pd.pivot_table(high, columns = ['level_0'], values = 0, index = ['level_1'])\n",
    "    corr.columns.name = None\n",
    "    corr.index.name = None\n",
    "    sns.heatmap(corr, annot=True)\n",
    "    return plt"
   ]
  },
  {
   "cell_type": "code",
   "execution_count": 36,
   "id": "6f2f7623",
   "metadata": {},
   "outputs": [],
   "source": [
    "original = ['home_goals', 'away_goals', 'home_shot', 'away_shot', 'home_sot', 'away_sot', 'home_corner', 'away_corner',\n",
    "           'home_yellow', 'away_yellow', 'home_red', 'away_red', 'home_foul', 'away_foul']\n",
    "names = ['Home goals', 'Away goals', 'Home shots', 'Home shots', \n",
    "         'Home shots on target', 'Away shots on target', 'Home corners', 'Away corners', \n",
    "         'Home yellow cards', 'Away yellow cards', \n",
    "         'Home red cards', 'Away red cards', 'Home fouls', 'Away fouls']\n",
    "leagueNames = ['Premier League', 'Ligue 1', 'Bundesliga', 'Serie A', 'La Liga', 'Combined leagues']"
   ]
  },
  {
   "cell_type": "code",
   "execution_count": 37,
   "id": "fd174111",
   "metadata": {
    "code_folding": [
     2
    ]
   },
   "outputs": [],
   "source": [
    "meanStd = pd.DataFrame()\n",
    "resultSpread = pd.DataFrame()\n",
    "for i in leagues:\n",
    "    df = leagues[i][0]\n",
    "    means = np.round(df[original].mean().to_numpy(), decimals=2)\n",
    "    stds = np.round(df[original].std().to_numpy(), decimals=2)\n",
    "    values = []\n",
    "    \n",
    "    for j in range(len(means)):\n",
    "        values.append((means[j], stds[j]))\n",
    "        \n",
    "    values = pd.DataFrame(values)\n",
    "    values['Mean/Std'] = values[[0,1]].apply(tuple, axis=1)\n",
    "    values = pd.DataFrame(values['Mean/Std'])\n",
    "    meanStd = pd.concat([meanStd, values], axis = 1)\n",
    "    \n",
    "    spread = df[['results']].value_counts(normalize = True).sort_index()\n",
    "    resultSpread = pd.concat([resultSpread, spread], axis = 1)"
   ]
  },
  {
   "cell_type": "code",
   "execution_count": 38,
   "id": "f125f65a",
   "metadata": {},
   "outputs": [],
   "source": [
    "meanStd.columns = leagueNames\n",
    "meanStd['index'] = names\n",
    "meanStd = meanStd.set_index('index', drop = True)\n",
    "meanStd.index.name = None"
   ]
  },
  {
   "cell_type": "code",
   "execution_count": 39,
   "id": "9d739fa2",
   "metadata": {},
   "outputs": [],
   "source": [
    "resultSpread.columns = leagueNames\n",
    "resultSpread['index'] = ['Home win', 'Draw', 'Away win']\n",
    "resultSpread = resultSpread.set_index('index', drop = True)\n",
    "resultSpread.index.name = None\n",
    "resultSpread = resultSpread.transpose()"
   ]
  },
  {
   "cell_type": "code",
   "execution_count": 40,
   "id": "92fc9c93",
   "metadata": {},
   "outputs": [],
   "source": [
    "data = leagues['combined'][0]"
   ]
  },
  {
   "cell_type": "code",
   "execution_count": 41,
   "id": "be08f9b7",
   "metadata": {},
   "outputs": [
    {
     "data": {
      "image/png": "[encoded data removed]",
      "text/plain": [
       "<Figure size 720x432 with 2 Axes>"
      ]
     },
     "metadata": {
      "needs_background": "light"
     },
     "output_type": "display_data"
    }
   ],
   "source": [
    "corrs = correlation(data)\n",
    "plt.savefig('Figures/corrs.png', bbox_inches = 'tight')\n",
    "plt.show()"
   ]
  },
  {
   "cell_type": "code",
   "execution_count": 42,
   "id": "39bc5d56",
   "metadata": {
    "code_folding": []
   },
   "outputs": [],
   "source": [
    "xs = []\n",
    "for i in resultSpread.columns:\n",
    "    xs.append(resultSpread[i])"
   ]
  },
  {
   "cell_type": "code",
   "execution_count": 43,
   "id": "e68b9ce3",
   "metadata": {
    "code_folding": []
   },
   "outputs": [
    {
     "data": {
      "image/png": "[encoded data removed]",
      "text/plain": [
       "<Figure size 720x432 with 1 Axes>"
      ]
     },
     "metadata": {
      "needs_background": "light"
     },
     "output_type": "display_data"
    }
   ],
   "source": [
    "#\n",
    "\n",
    "labels = leagueNames\n",
    "\n",
    "x = np.arange(len(labels))  # the label locations\n",
    "width = 0.3\n",
    "fig, ax = plt.subplots()\n",
    "rects1 = ax.bar(x - 0.3, xs[0], width, label='Home win')\n",
    "rects2 = ax.bar(x , xs[1], width, label='Draw')\n",
    "rects3 = ax.bar(x + 0.3, xs[2], width, label='Away win')\n",
    "\n",
    "ax.set_ylabel('Percentage')\n",
    "ax.set_title('Match outcome distribution')\n",
    "ax.set_xticks(x, labels)\n",
    "ax.legend()\n",
    "\n",
    "plt.rcParams['figure.figsize'] = (10, 6)\n",
    "#fig.tight_layout()\n",
    "plt.savefig('Figures/resultDist.png', bbox_inches = 'tight')\n",
    "plt.show()"
   ]
  },
  {
   "cell_type": "code",
   "execution_count": 44,
   "id": "2a078363",
   "metadata": {},
   "outputs": [
    {
     "data": {
      "text/html": [
       "<div>\n",
       "<style scoped>\n",
       "    .dataframe tbody tr th:only-of-type {\n",
       "        vertical-align: middle;\n",
       "    }\n",
       "\n",
       "    .dataframe tbody tr th {\n",
       "        vertical-align: top;\n",
       "    }\n",
       "\n",
       "    .dataframe thead th {\n",
       "        text-align: right;\n",
       "    }\n",
       "</style>\n",
       "<table border=\"1\" class=\"dataframe\">\n",
       "  <thead>\n",
       "    <tr style=\"text-align: right;\">\n",
       "      <th></th>\n",
       "      <th>Home win</th>\n",
       "      <th>Draw</th>\n",
       "      <th>Away win</th>\n",
       "    </tr>\n",
       "  </thead>\n",
       "  <tbody>\n",
       "    <tr>\n",
       "      <th>Premier League</th>\n",
       "      <td>0.438568</td>\n",
       "      <td>0.227564</td>\n",
       "      <td>0.333868</td>\n",
       "    </tr>\n",
       "    <tr>\n",
       "      <th>Ligue 1</th>\n",
       "      <td>0.430501</td>\n",
       "      <td>0.263365</td>\n",
       "      <td>0.306134</td>\n",
       "    </tr>\n",
       "    <tr>\n",
       "      <th>Bundesliga</th>\n",
       "      <td>0.437870</td>\n",
       "      <td>0.246548</td>\n",
       "      <td>0.315582</td>\n",
       "    </tr>\n",
       "    <tr>\n",
       "      <th>Serie A</th>\n",
       "      <td>0.418085</td>\n",
       "      <td>0.247872</td>\n",
       "      <td>0.334043</td>\n",
       "    </tr>\n",
       "    <tr>\n",
       "      <th>La Liga</th>\n",
       "      <td>0.444385</td>\n",
       "      <td>0.274332</td>\n",
       "      <td>0.281283</td>\n",
       "    </tr>\n",
       "    <tr>\n",
       "      <th>Combined leagues</th>\n",
       "      <td>0.433744</td>\n",
       "      <td>0.252018</td>\n",
       "      <td>0.314238</td>\n",
       "    </tr>\n",
       "  </tbody>\n",
       "</table>\n",
       "</div>"
      ],
      "text/plain": [
       "                  Home win      Draw  Away win\n",
       "Premier League    0.438568  0.227564  0.333868\n",
       "Ligue 1           0.430501  0.263365  0.306134\n",
       "Bundesliga        0.437870  0.246548  0.315582\n",
       "Serie A           0.418085  0.247872  0.334043\n",
       "La Liga           0.444385  0.274332  0.281283\n",
       "Combined leagues  0.433744  0.252018  0.314238"
      ]
     },
     "execution_count": 44,
     "metadata": {},
     "output_type": "execute_result"
    }
   ],
   "source": [
    "resultSpread"
   ]
  },
  {
   "cell_type": "code",
   "execution_count": 45,
   "id": "0081a441",
   "metadata": {},
   "outputs": [
    {
     "data": {
      "text/html": [
       "<div>\n",
       "<style scoped>\n",
       "    .dataframe tbody tr th:only-of-type {\n",
       "        vertical-align: middle;\n",
       "    }\n",
       "\n",
       "    .dataframe tbody tr th {\n",
       "        vertical-align: top;\n",
       "    }\n",
       "\n",
       "    .dataframe thead th {\n",
       "        text-align: right;\n",
       "    }\n",
       "</style>\n",
       "<table border=\"1\" class=\"dataframe\">\n",
       "  <thead>\n",
       "    <tr style=\"text-align: right;\">\n",
       "      <th></th>\n",
       "      <th>Premier League</th>\n",
       "      <th>Ligue 1</th>\n",
       "      <th>Bundesliga</th>\n",
       "      <th>Serie A</th>\n",
       "      <th>La Liga</th>\n",
       "      <th>Combined leagues</th>\n",
       "    </tr>\n",
       "  </thead>\n",
       "  <tbody>\n",
       "    <tr>\n",
       "      <th>Home goals</th>\n",
       "      <td>(1.49, 1.31)</td>\n",
       "      <td>(1.49, 1.29)</td>\n",
       "      <td>(1.69, 1.4)</td>\n",
       "      <td>(1.54, 1.28)</td>\n",
       "      <td>(1.45, 1.23)</td>\n",
       "      <td>(1.53, 1.3)</td>\n",
       "    </tr>\n",
       "    <tr>\n",
       "      <th>Away goals</th>\n",
       "      <td>(1.25, 1.21)</td>\n",
       "      <td>(1.18, 1.11)</td>\n",
       "      <td>(1.37, 1.25)</td>\n",
       "      <td>(1.32, 1.19)</td>\n",
       "      <td>(1.11, 1.1)</td>\n",
       "      <td>(1.24, 1.18)</td>\n",
       "    </tr>\n",
       "    <tr>\n",
       "      <th>Home shots</th>\n",
       "      <td>(13.53, 5.64)</td>\n",
       "      <td>(13.27, 4.87)</td>\n",
       "      <td>(13.99, 5.02)</td>\n",
       "      <td>(12.44, 5.18)</td>\n",
       "      <td>(12.84, 4.82)</td>\n",
       "      <td>(13.18, 5.15)</td>\n",
       "    </tr>\n",
       "    <tr>\n",
       "      <th>Home shots</th>\n",
       "      <td>(11.29, 4.99)</td>\n",
       "      <td>(10.93, 4.42)</td>\n",
       "      <td>(11.8, 4.83)</td>\n",
       "      <td>(10.47, 4.66)</td>\n",
       "      <td>(10.3, 4.17)</td>\n",
       "      <td>(10.92, 4.65)</td>\n",
       "    </tr>\n",
       "    <tr>\n",
       "      <th>Home shots on target</th>\n",
       "      <td>(4.63, 2.62)</td>\n",
       "      <td>(4.59, 2.44)</td>\n",
       "      <td>(5.09, 2.68)</td>\n",
       "      <td>(5.42, 2.89)</td>\n",
       "      <td>(4.46, 2.42)</td>\n",
       "      <td>(4.83, 2.64)</td>\n",
       "    </tr>\n",
       "    <tr>\n",
       "      <th>Away shots on target</th>\n",
       "      <td>(3.97, 2.39)</td>\n",
       "      <td>(3.76, 2.22)</td>\n",
       "      <td>(4.33, 2.47)</td>\n",
       "      <td>(4.59, 2.64)</td>\n",
       "      <td>(3.58, 2.1)</td>\n",
       "      <td>(4.04, 2.4)</td>\n",
       "    </tr>\n",
       "    <tr>\n",
       "      <th>Home corners</th>\n",
       "      <td>(5.68, 3.04)</td>\n",
       "      <td>(5.35, 2.83)</td>\n",
       "      <td>(5.2, 2.87)</td>\n",
       "      <td>(5.49, 3.04)</td>\n",
       "      <td>(5.17, 2.75)</td>\n",
       "      <td>(5.38, 2.92)</td>\n",
       "    </tr>\n",
       "    <tr>\n",
       "      <th>Away corners</th>\n",
       "      <td>(4.71, 2.74)</td>\n",
       "      <td>(4.34, 2.55)</td>\n",
       "      <td>(4.49, 2.61)</td>\n",
       "      <td>(4.68, 2.74)</td>\n",
       "      <td>(4.18, 2.46)</td>\n",
       "      <td>(4.48, 2.63)</td>\n",
       "    </tr>\n",
       "    <tr>\n",
       "      <th>Home yellow cards</th>\n",
       "      <td>(1.54, 1.22)</td>\n",
       "      <td>(1.8, 1.24)</td>\n",
       "      <td>(1.67, 1.3)</td>\n",
       "      <td>(2.16, 1.34)</td>\n",
       "      <td>(2.41, 1.52)</td>\n",
       "      <td>(1.93, 1.37)</td>\n",
       "    </tr>\n",
       "    <tr>\n",
       "      <th>Away yellow cards</th>\n",
       "      <td>(1.65, 1.22)</td>\n",
       "      <td>(2.04, 1.31)</td>\n",
       "      <td>(1.92, 1.29)</td>\n",
       "      <td>(2.43, 1.4)</td>\n",
       "      <td>(2.58, 1.51)</td>\n",
       "      <td>(2.13, 1.4)</td>\n",
       "    </tr>\n",
       "    <tr>\n",
       "      <th>Home red cards</th>\n",
       "      <td>(0.05, 0.22)</td>\n",
       "      <td>(0.12, 0.35)</td>\n",
       "      <td>(0.05, 0.23)</td>\n",
       "      <td>(0.1, 0.33)</td>\n",
       "      <td>(0.11, 0.32)</td>\n",
       "      <td>(0.09, 0.3)</td>\n",
       "    </tr>\n",
       "    <tr>\n",
       "      <th>Away red cards</th>\n",
       "      <td>(0.07, 0.26)</td>\n",
       "      <td>(0.14, 0.37)</td>\n",
       "      <td>(0.08, 0.28)</td>\n",
       "      <td>(0.13, 0.36)</td>\n",
       "      <td>(0.11, 0.32)</td>\n",
       "      <td>(0.1, 0.32)</td>\n",
       "    </tr>\n",
       "    <tr>\n",
       "      <th>Home fouls</th>\n",
       "      <td>(10.45, 3.43)</td>\n",
       "      <td>(12.65, 3.75)</td>\n",
       "      <td>(11.85, 3.85)</td>\n",
       "      <td>(13.22, 3.94)</td>\n",
       "      <td>(13.6, 4.1)</td>\n",
       "      <td>(12.37, 3.99)</td>\n",
       "    </tr>\n",
       "    <tr>\n",
       "      <th>Away fouls</th>\n",
       "      <td>(10.5, 3.55)</td>\n",
       "      <td>(12.86, 3.79)</td>\n",
       "      <td>(12.35, 3.95)</td>\n",
       "      <td>(13.45, 4.11)</td>\n",
       "      <td>(13.47, 4.13)</td>\n",
       "      <td>(12.53, 4.07)</td>\n",
       "    </tr>\n",
       "  </tbody>\n",
       "</table>\n",
       "</div>"
      ],
      "text/plain": [
       "                     Premier League        Ligue 1     Bundesliga  \\\n",
       "Home goals             (1.49, 1.31)   (1.49, 1.29)    (1.69, 1.4)   \n",
       "Away goals             (1.25, 1.21)   (1.18, 1.11)   (1.37, 1.25)   \n",
       "Home shots            (13.53, 5.64)  (13.27, 4.87)  (13.99, 5.02)   \n",
       "Home shots            (11.29, 4.99)  (10.93, 4.42)   (11.8, 4.83)   \n",
       "Home shots on target   (4.63, 2.62)   (4.59, 2.44)   (5.09, 2.68)   \n",
       "Away shots on target   (3.97, 2.39)   (3.76, 2.22)   (4.33, 2.47)   \n",
       "Home corners           (5.68, 3.04)   (5.35, 2.83)    (5.2, 2.87)   \n",
       "Away corners           (4.71, 2.74)   (4.34, 2.55)   (4.49, 2.61)   \n",
       "Home yellow cards      (1.54, 1.22)    (1.8, 1.24)    (1.67, 1.3)   \n",
       "Away yellow cards      (1.65, 1.22)   (2.04, 1.31)   (1.92, 1.29)   \n",
       "Home red cards         (0.05, 0.22)   (0.12, 0.35)   (0.05, 0.23)   \n",
       "Away red cards         (0.07, 0.26)   (0.14, 0.37)   (0.08, 0.28)   \n",
       "Home fouls            (10.45, 3.43)  (12.65, 3.75)  (11.85, 3.85)   \n",
       "Away fouls             (10.5, 3.55)  (12.86, 3.79)  (12.35, 3.95)   \n",
       "\n",
       "                            Serie A        La Liga Combined leagues  \n",
       "Home goals             (1.54, 1.28)   (1.45, 1.23)      (1.53, 1.3)  \n",
       "Away goals             (1.32, 1.19)    (1.11, 1.1)     (1.24, 1.18)  \n",
       "Home shots            (12.44, 5.18)  (12.84, 4.82)    (13.18, 5.15)  \n",
       "Home shots            (10.47, 4.66)   (10.3, 4.17)    (10.92, 4.65)  \n",
       "Home shots on target   (5.42, 2.89)   (4.46, 2.42)     (4.83, 2.64)  \n",
       "Away shots on target   (4.59, 2.64)    (3.58, 2.1)      (4.04, 2.4)  \n",
       "Home corners           (5.49, 3.04)   (5.17, 2.75)     (5.38, 2.92)  \n",
       "Away corners           (4.68, 2.74)   (4.18, 2.46)     (4.48, 2.63)  \n",
       "Home yellow cards      (2.16, 1.34)   (2.41, 1.52)     (1.93, 1.37)  \n",
       "Away yellow cards       (2.43, 1.4)   (2.58, 1.51)      (2.13, 1.4)  \n",
       "Home red cards          (0.1, 0.33)   (0.11, 0.32)      (0.09, 0.3)  \n",
       "Away red cards         (0.13, 0.36)   (0.11, 0.32)      (0.1, 0.32)  \n",
       "Home fouls            (13.22, 3.94)    (13.6, 4.1)    (12.37, 3.99)  \n",
       "Away fouls            (13.45, 4.11)  (13.47, 4.13)    (12.53, 4.07)  "
      ]
     },
     "execution_count": 45,
     "metadata": {},
     "output_type": "execute_result"
    }
   ],
   "source": [
    "meanStd"
   ]
  }
 ],
 "metadata": {
  "kernelspec": {
   "display_name": "Python 3",
   "language": "python",
   "name": "python3"
  },
  "language_info": {
   "codemirror_mode": {
    "name": "ipython",
    "version": 3
   },
   "file_extension": ".py",
   "mimetype": "text/x-python",
   "name": "python",
   "nbconvert_exporter": "python",
   "pygments_lexer": "ipython3",
   "version": "3.8.5"
  }
 },
 "nbformat": 4,
 "nbformat_minor": 5
}
